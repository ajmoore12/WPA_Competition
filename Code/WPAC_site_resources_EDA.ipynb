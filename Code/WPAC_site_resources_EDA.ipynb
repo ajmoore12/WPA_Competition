{
  "cells": [
    {
      "cell_type": "code",
      "source": [
        "from google.colab import auth\n",
        "auth.authenticate_user()\n",
        "\n",
        "# Install Google Cloud Storage client\n",
        "# !pip install --upgrade google-cloud-storage\n",
        "\n",
        "from google.cloud import storage, bigquery\n",
        "\n",
        "# Set your bucket name\n",
        "BUCKET_NAME = 'wpac-bucket-1'\n",
        "\n",
        "# Create a storage client\n",
        "client = storage.Client()\n",
        "bucket = client.bucket(BUCKET_NAME)"
      ],
      "metadata": {
        "colab": {
          "base_uri": "https://localhost:8080/"
        },
        "id": "6CVoDoWQhC7J",
        "executionInfo": {
          "status": "ok",
          "timestamp": 1738992463071,
          "user_tz": 360,
          "elapsed": 2403,
          "user": {
            "displayName": "",
            "userId": ""
          }
        },
        "outputId": "2b6b1015-ee37-4a61-c9d7-c04df50d3a20"
      },
      "execution_count": 1,
      "outputs": [
        {
          "output_type": "stream",
          "name": "stdout",
          "text": [
            "WARNING: google.colab.auth.authenticate_user() is not supported in Colab Enterprise.\n"
          ]
        }
      ],
      "id": "6CVoDoWQhC7J"
    },
    {
      "cell_type": "code",
      "source": [
        "blobs = bucket.list_blobs()\n",
        "for blob in blobs:\n",
        "    print(blob.name)"
      ],
      "metadata": {
        "colab": {
          "base_uri": "https://localhost:8080/"
        },
        "id": "6SJM54mVieKm",
        "executionInfo": {
          "status": "ok",
          "timestamp": 1738992463072,
          "user_tz": 360,
          "elapsed": 22,
          "user": {
            "displayName": "",
            "userId": ""
          }
        },
        "outputId": "47fd6641-250a-4522-b5ec-7c665bb62619"
      },
      "execution_count": 2,
      "outputs": [
        {
          "output_type": "stream",
          "name": "stdout",
          "text": [
            "WAP_site_resources.csv\n",
            "WPA_all_time_connect.csv\n",
            "WPA_pulse_survey.csv\n",
            "WPA_site_jobs.csv\n",
            "cleaned_jobs.csv\n"
          ]
        }
      ],
      "id": "6SJM54mVieKm"
    },
    {
      "cell_type": "code",
      "source": [
        "FILE_NAME = 'WAP_site_resources.csv'  # Change to your file path in GCS\n",
        "blob = bucket.blob(FILE_NAME)\n",
        "blob.download_to_filename('local-file.csv')  # Save as a local file\n",
        "print(f'Downloaded {FILE_NAME} to local-file.csv')\n"
      ],
      "metadata": {
        "colab": {
          "base_uri": "https://localhost:8080/"
        },
        "id": "OcM81EkEhsbR",
        "executionInfo": {
          "status": "ok",
          "timestamp": 1738992463072,
          "user_tz": 360,
          "elapsed": 21,
          "user": {
            "displayName": "",
            "userId": ""
          }
        },
        "outputId": "2bb15f48-0763-458e-b5ee-e420e7d42028"
      },
      "execution_count": 3,
      "outputs": [
        {
          "output_type": "stream",
          "name": "stdout",
          "text": [
            "Downloaded WAP_site_resources.csv to local-file.csv\n"
          ]
        }
      ],
      "id": "OcM81EkEhsbR"
    },
    {
      "cell_type": "code",
      "execution_count": 4,
      "id": "74482f5e-6272-4a4a-8bd8-9d61ee450253",
      "metadata": {
        "id": "74482f5e-6272-4a4a-8bd8-9d61ee450253",
        "executionInfo": {
          "status": "ok",
          "timestamp": 1738992463072,
          "user_tz": 360,
          "elapsed": 19,
          "user": {
            "displayName": "",
            "userId": ""
          }
        }
      },
      "outputs": [],
      "source": [
        "import pandas as pd\n",
        "pd.set_option('display.max_columns', None)"
      ]
    },
    {
      "cell_type": "code",
      "execution_count": 5,
      "id": "6a562ef3-383e-405e-ad5d-e3690495f066",
      "metadata": {
        "id": "6a562ef3-383e-405e-ad5d-e3690495f066",
        "outputId": "6350c7d6-1ecf-46c6-8a7b-06b29c1f5daa",
        "colab": {
          "base_uri": "https://localhost:8080/",
          "height": 206
        },
        "executionInfo": {
          "status": "ok",
          "timestamp": 1738992463072,
          "user_tz": 360,
          "elapsed": 19,
          "user": {
            "displayName": "",
            "userId": ""
          }
        }
      },
      "outputs": [
        {
          "output_type": "execute_result",
          "data": {
            "text/plain": [
              "              data_careerId  \\\n",
              "0  63e53d0f3f747a7a197b9808   \n",
              "1  63e53d0f3f747a7a197b9808   \n",
              "2  63e53d123f747a7a197b980e   \n",
              "3  63e53d123f747a7a197b980e   \n",
              "4  63e53d123f747a7a197b980e   \n",
              "\n",
              "                                            featured      providerName  \\\n",
              "0  Don't have a working computer at home? Would y...  Compudopt Dallas   \n",
              "1  Don't have a working computer at home? Would y...  Compudopt Dallas   \n",
              "2  Dallas City Hall can help you with social serv...  Dallas City Hall   \n",
              "3  Dallas City Hall can help you with social serv...  Dallas City Hall   \n",
              "4  Dallas City Hall can help you with social serv...  Dallas City Hall   \n",
              "\n",
              "              updatedAt    resource_tag  \n",
              "0  2024-11-22T03:05:40Z        supplies  \n",
              "1  2024-11-22T03:05:40Z  life resources  \n",
              "2  2024-11-22T03:07:09Z  life resources  \n",
              "3  2024-11-22T03:07:09Z           legal  \n",
              "4  2024-11-22T03:07:09Z         housing  "
            ],
            "text/html": [
              "\n",
              "  <div id=\"df-176ec896-a5c9-4af4-ac1a-21c18ae4420d\" class=\"colab-df-container\">\n",
              "    <div>\n",
              "<style scoped>\n",
              "    .dataframe tbody tr th:only-of-type {\n",
              "        vertical-align: middle;\n",
              "    }\n",
              "\n",
              "    .dataframe tbody tr th {\n",
              "        vertical-align: top;\n",
              "    }\n",
              "\n",
              "    .dataframe thead th {\n",
              "        text-align: right;\n",
              "    }\n",
              "</style>\n",
              "<table border=\"1\" class=\"dataframe\">\n",
              "  <thead>\n",
              "    <tr style=\"text-align: right;\">\n",
              "      <th></th>\n",
              "      <th>data_careerId</th>\n",
              "      <th>featured</th>\n",
              "      <th>providerName</th>\n",
              "      <th>updatedAt</th>\n",
              "      <th>resource_tag</th>\n",
              "    </tr>\n",
              "  </thead>\n",
              "  <tbody>\n",
              "    <tr>\n",
              "      <th>0</th>\n",
              "      <td>63e53d0f3f747a7a197b9808</td>\n",
              "      <td>Don't have a working computer at home? Would y...</td>\n",
              "      <td>Compudopt Dallas</td>\n",
              "      <td>2024-11-22T03:05:40Z</td>\n",
              "      <td>supplies</td>\n",
              "    </tr>\n",
              "    <tr>\n",
              "      <th>1</th>\n",
              "      <td>63e53d0f3f747a7a197b9808</td>\n",
              "      <td>Don't have a working computer at home? Would y...</td>\n",
              "      <td>Compudopt Dallas</td>\n",
              "      <td>2024-11-22T03:05:40Z</td>\n",
              "      <td>life resources</td>\n",
              "    </tr>\n",
              "    <tr>\n",
              "      <th>2</th>\n",
              "      <td>63e53d123f747a7a197b980e</td>\n",
              "      <td>Dallas City Hall can help you with social serv...</td>\n",
              "      <td>Dallas City Hall</td>\n",
              "      <td>2024-11-22T03:07:09Z</td>\n",
              "      <td>life resources</td>\n",
              "    </tr>\n",
              "    <tr>\n",
              "      <th>3</th>\n",
              "      <td>63e53d123f747a7a197b980e</td>\n",
              "      <td>Dallas City Hall can help you with social serv...</td>\n",
              "      <td>Dallas City Hall</td>\n",
              "      <td>2024-11-22T03:07:09Z</td>\n",
              "      <td>legal</td>\n",
              "    </tr>\n",
              "    <tr>\n",
              "      <th>4</th>\n",
              "      <td>63e53d123f747a7a197b980e</td>\n",
              "      <td>Dallas City Hall can help you with social serv...</td>\n",
              "      <td>Dallas City Hall</td>\n",
              "      <td>2024-11-22T03:07:09Z</td>\n",
              "      <td>housing</td>\n",
              "    </tr>\n",
              "  </tbody>\n",
              "</table>\n",
              "</div>\n",
              "    <div class=\"colab-df-buttons\">\n",
              "\n",
              "  <div class=\"colab-df-container\">\n",
              "    <button class=\"colab-df-convert\" onclick=\"convertToInteractive('df-176ec896-a5c9-4af4-ac1a-21c18ae4420d')\"\n",
              "            title=\"Convert this dataframe to an interactive table.\"\n",
              "            style=\"display:none;\">\n",
              "\n",
              "  <svg xmlns=\"http://www.w3.org/2000/svg\" height=\"24px\" viewBox=\"0 -960 960 960\">\n",
              "    <path d=\"M120-120v-720h720v720H120Zm60-500h600v-160H180v160Zm220 220h160v-160H400v160Zm0 220h160v-160H400v160ZM180-400h160v-160H180v160Zm440 0h160v-160H620v160ZM180-180h160v-160H180v160Zm440 0h160v-160H620v160Z\"/>\n",
              "  </svg>\n",
              "    </button>\n",
              "\n",
              "  <style>\n",
              "    .colab-df-container {\n",
              "      display:flex;\n",
              "      gap: 12px;\n",
              "    }\n",
              "\n",
              "    .colab-df-convert {\n",
              "      background-color: #E8F0FE;\n",
              "      border: none;\n",
              "      border-radius: 50%;\n",
              "      cursor: pointer;\n",
              "      display: none;\n",
              "      fill: #1967D2;\n",
              "      height: 32px;\n",
              "      padding: 0 0 0 0;\n",
              "      width: 32px;\n",
              "    }\n",
              "\n",
              "    .colab-df-convert:hover {\n",
              "      background-color: #E2EBFA;\n",
              "      box-shadow: 0px 1px 2px rgba(60, 64, 67, 0.3), 0px 1px 3px 1px rgba(60, 64, 67, 0.15);\n",
              "      fill: #174EA6;\n",
              "    }\n",
              "\n",
              "    .colab-df-buttons div {\n",
              "      margin-bottom: 4px;\n",
              "    }\n",
              "\n",
              "    [theme=dark] .colab-df-convert {\n",
              "      background-color: #3B4455;\n",
              "      fill: #D2E3FC;\n",
              "    }\n",
              "\n",
              "    [theme=dark] .colab-df-convert:hover {\n",
              "      background-color: #434B5C;\n",
              "      box-shadow: 0px 1px 3px 1px rgba(0, 0, 0, 0.15);\n",
              "      filter: drop-shadow(0px 1px 2px rgba(0, 0, 0, 0.3));\n",
              "      fill: #FFFFFF;\n",
              "    }\n",
              "  </style>\n",
              "\n",
              "    <script>\n",
              "      const buttonEl =\n",
              "        document.querySelector('#df-176ec896-a5c9-4af4-ac1a-21c18ae4420d button.colab-df-convert');\n",
              "      buttonEl.style.display =\n",
              "        google.colab.kernel.accessAllowed ? 'block' : 'none';\n",
              "\n",
              "      async function convertToInteractive(key) {\n",
              "        const element = document.querySelector('#df-176ec896-a5c9-4af4-ac1a-21c18ae4420d');\n",
              "        const dataTable =\n",
              "          await google.colab.kernel.invokeFunction('convertToInteractive',\n",
              "                                                    [key], {});\n",
              "        if (!dataTable) return;\n",
              "\n",
              "        const docLinkHtml = 'Like what you see? Visit the ' +\n",
              "          '<a target=\"_blank\" href=https://colab.research.google.com/notebooks/data_table.ipynb>data table notebook</a>'\n",
              "          + ' to learn more about interactive tables.';\n",
              "        element.innerHTML = '';\n",
              "        dataTable['output_type'] = 'display_data';\n",
              "        await google.colab.output.renderOutput(dataTable, element);\n",
              "        const docLink = document.createElement('div');\n",
              "        docLink.innerHTML = docLinkHtml;\n",
              "        element.appendChild(docLink);\n",
              "      }\n",
              "    </script>\n",
              "  </div>\n",
              "\n",
              "\n",
              "<div id=\"df-a02fd74c-ee90-4968-afc5-0b1bbd98b39a\">\n",
              "  <button class=\"colab-df-quickchart\" onclick=\"quickchart('df-a02fd74c-ee90-4968-afc5-0b1bbd98b39a')\"\n",
              "            title=\"Suggest charts\"\n",
              "            style=\"display:none;\">\n",
              "\n",
              "<svg xmlns=\"http://www.w3.org/2000/svg\" height=\"24px\"viewBox=\"0 0 24 24\"\n",
              "     width=\"24px\">\n",
              "    <g>\n",
              "        <path d=\"M19 3H5c-1.1 0-2 .9-2 2v14c0 1.1.9 2 2 2h14c1.1 0 2-.9 2-2V5c0-1.1-.9-2-2-2zM9 17H7v-7h2v7zm4 0h-2V7h2v10zm4 0h-2v-4h2v4z\"/>\n",
              "    </g>\n",
              "</svg>\n",
              "  </button>\n",
              "\n",
              "<style>\n",
              "  .colab-df-quickchart {\n",
              "      --bg-color: #E8F0FE;\n",
              "      --fill-color: #1967D2;\n",
              "      --hover-bg-color: #E2EBFA;\n",
              "      --hover-fill-color: #174EA6;\n",
              "      --disabled-fill-color: #AAA;\n",
              "      --disabled-bg-color: #DDD;\n",
              "  }\n",
              "\n",
              "  [theme=dark] .colab-df-quickchart {\n",
              "      --bg-color: #3B4455;\n",
              "      --fill-color: #D2E3FC;\n",
              "      --hover-bg-color: #434B5C;\n",
              "      --hover-fill-color: #FFFFFF;\n",
              "      --disabled-bg-color: #3B4455;\n",
              "      --disabled-fill-color: #666;\n",
              "  }\n",
              "\n",
              "  .colab-df-quickchart {\n",
              "    background-color: var(--bg-color);\n",
              "    border: none;\n",
              "    border-radius: 50%;\n",
              "    cursor: pointer;\n",
              "    display: none;\n",
              "    fill: var(--fill-color);\n",
              "    height: 32px;\n",
              "    padding: 0;\n",
              "    width: 32px;\n",
              "  }\n",
              "\n",
              "  .colab-df-quickchart:hover {\n",
              "    background-color: var(--hover-bg-color);\n",
              "    box-shadow: 0 1px 2px rgba(60, 64, 67, 0.3), 0 1px 3px 1px rgba(60, 64, 67, 0.15);\n",
              "    fill: var(--button-hover-fill-color);\n",
              "  }\n",
              "\n",
              "  .colab-df-quickchart-complete:disabled,\n",
              "  .colab-df-quickchart-complete:disabled:hover {\n",
              "    background-color: var(--disabled-bg-color);\n",
              "    fill: var(--disabled-fill-color);\n",
              "    box-shadow: none;\n",
              "  }\n",
              "\n",
              "  .colab-df-spinner {\n",
              "    border: 2px solid var(--fill-color);\n",
              "    border-color: transparent;\n",
              "    border-bottom-color: var(--fill-color);\n",
              "    animation:\n",
              "      spin 1s steps(1) infinite;\n",
              "  }\n",
              "\n",
              "  @keyframes spin {\n",
              "    0% {\n",
              "      border-color: transparent;\n",
              "      border-bottom-color: var(--fill-color);\n",
              "      border-left-color: var(--fill-color);\n",
              "    }\n",
              "    20% {\n",
              "      border-color: transparent;\n",
              "      border-left-color: var(--fill-color);\n",
              "      border-top-color: var(--fill-color);\n",
              "    }\n",
              "    30% {\n",
              "      border-color: transparent;\n",
              "      border-left-color: var(--fill-color);\n",
              "      border-top-color: var(--fill-color);\n",
              "      border-right-color: var(--fill-color);\n",
              "    }\n",
              "    40% {\n",
              "      border-color: transparent;\n",
              "      border-right-color: var(--fill-color);\n",
              "      border-top-color: var(--fill-color);\n",
              "    }\n",
              "    60% {\n",
              "      border-color: transparent;\n",
              "      border-right-color: var(--fill-color);\n",
              "    }\n",
              "    80% {\n",
              "      border-color: transparent;\n",
              "      border-right-color: var(--fill-color);\n",
              "      border-bottom-color: var(--fill-color);\n",
              "    }\n",
              "    90% {\n",
              "      border-color: transparent;\n",
              "      border-bottom-color: var(--fill-color);\n",
              "    }\n",
              "  }\n",
              "</style>\n",
              "\n",
              "  <script>\n",
              "    async function quickchart(key) {\n",
              "      const quickchartButtonEl =\n",
              "        document.querySelector('#' + key + ' button');\n",
              "      quickchartButtonEl.disabled = true;  // To prevent multiple clicks.\n",
              "      quickchartButtonEl.classList.add('colab-df-spinner');\n",
              "      try {\n",
              "        const charts = await google.colab.kernel.invokeFunction(\n",
              "            'suggestCharts', [key], {});\n",
              "      } catch (error) {\n",
              "        console.error('Error during call to suggestCharts:', error);\n",
              "      }\n",
              "      quickchartButtonEl.classList.remove('colab-df-spinner');\n",
              "      quickchartButtonEl.classList.add('colab-df-quickchart-complete');\n",
              "    }\n",
              "    (() => {\n",
              "      let quickchartButtonEl =\n",
              "        document.querySelector('#df-a02fd74c-ee90-4968-afc5-0b1bbd98b39a button');\n",
              "      quickchartButtonEl.style.display =\n",
              "        google.colab.kernel.accessAllowed ? 'block' : 'none';\n",
              "    })();\n",
              "  </script>\n",
              "</div>\n",
              "\n",
              "    </div>\n",
              "  </div>\n"
            ]
          },
          "metadata": {},
          "execution_count": 5
        }
      ],
      "source": [
        "resources = pd.read_csv('local-file.csv')\n",
        "resources.head()"
      ]
    },
    {
      "cell_type": "code",
      "source": [
        "print(resources.nunique())\n",
        "print(resources.info())"
      ],
      "metadata": {
        "colab": {
          "base_uri": "https://localhost:8080/"
        },
        "id": "yT_ZzA3UcAqP",
        "executionInfo": {
          "status": "ok",
          "timestamp": 1738992463072,
          "user_tz": 360,
          "elapsed": 18,
          "user": {
            "displayName": "",
            "userId": ""
          }
        },
        "outputId": "59f6b4a8-e810-40f2-b36f-f93aa221018c"
      },
      "id": "yT_ZzA3UcAqP",
      "execution_count": 6,
      "outputs": [
        {
          "output_type": "stream",
          "name": "stdout",
          "text": [
            "data_careerId    150\n",
            "featured         150\n",
            "providerName     135\n",
            "updatedAt        143\n",
            "resource_tag      26\n",
            "dtype: int64\n",
            "<class 'pandas.core.frame.DataFrame'>\n",
            "RangeIndex: 737 entries, 0 to 736\n",
            "Data columns (total 5 columns):\n",
            " #   Column         Non-Null Count  Dtype \n",
            "---  ------         --------------  ----- \n",
            " 0   data_careerId  737 non-null    object\n",
            " 1   featured       737 non-null    object\n",
            " 2   providerName   737 non-null    object\n",
            " 3   updatedAt      737 non-null    object\n",
            " 4   resource_tag   734 non-null    object\n",
            "dtypes: object(5)\n",
            "memory usage: 28.9+ KB\n",
            "None\n"
          ]
        }
      ]
    },
    {
      "cell_type": "code",
      "source": [
        "null_resource_tags = resources[resources['resource_tag'].isnull() == True]\n",
        "for i in null_resource_tags['featured']:\n",
        "  text = i.split()\n",
        "  print(text)\n",
        "# print(null_resource_tags['featured'])"
      ],
      "metadata": {
        "colab": {
          "base_uri": "https://localhost:8080/"
        },
        "id": "MHz-068o9EiM",
        "executionInfo": {
          "status": "ok",
          "timestamp": 1738992463072,
          "user_tz": 360,
          "elapsed": 16,
          "user": {
            "displayName": "",
            "userId": ""
          }
        },
        "outputId": "f985ff2b-6ad5-4ebf-e218-b69c99c0c79a"
      },
      "id": "MHz-068o9EiM",
      "execution_count": 7,
      "outputs": [
        {
          "output_type": "stream",
          "name": "stdout",
          "text": [
            "['In', 'this', 'video,', 'we', 'chatted', 'with', 'Ron,', 'a', 'New', 'York', 'City', 'resident', 'and', 'SkillUp', 'advocate,', 'who', 'gained', 'career', 'confidence', 'through', 'networking', 'skills', 'learned', 'in', 'a', 'SkillUp/Social', 'Capital', 'Builders', 'workshop']\n",
            "['Facing', 'the', 'need', 'for', 'diversified', 'skills', 'in', 'the', 'competitive', 'remote', 'work', 'landscape,', 'Jacoby', 'struggled', 'with', 'challenges', 'in', 'his', 'personal', 'identity', 'affecting', 'his', 'professional', 'history.', 'Learn', 'how', 'SkillUp', 'helped!']\n",
            "['Learn', 'how', 'Stephanie', 'leveraged', 'SkillUp', 'to', 'find', 'career', 'training', 'and', 'support!']\n"
          ]
        }
      ]
    },
    {
      "cell_type": "code",
      "source": [
        "resources['resource_tag'].value_counts(dropna=False)"
      ],
      "metadata": {
        "colab": {
          "base_uri": "https://localhost:8080/",
          "height": 962
        },
        "collapsed": true,
        "id": "CMEHmA97-KxF",
        "executionInfo": {
          "status": "ok",
          "timestamp": 1738992463072,
          "user_tz": 360,
          "elapsed": 15,
          "user": {
            "displayName": "",
            "userId": ""
          }
        },
        "outputId": "c5e0c423-f14b-42b1-f3e3-5fea8aa50643"
      },
      "id": "CMEHmA97-KxF",
      "execution_count": 8,
      "outputs": [
        {
          "output_type": "execute_result",
          "data": {
            "text/plain": [
              "resource_tag\n",
              "life resources         104\n",
              "career support          61\n",
              "housing                 56\n",
              "education               51\n",
              "food                    49\n",
              "job search              46\n",
              "medical                 45\n",
              "financial               44\n",
              "employment services     37\n",
              "young adults            28\n",
              "seniors                 26\n",
              "coaching                23\n",
              "legal                   23\n",
              "veterans                23\n",
              "childcare               19\n",
              "transportation          17\n",
              "disabled                15\n",
              "clothing                14\n",
              "LGBTQIA+                12\n",
              "internet                11\n",
              "supplies                10\n",
              "ai tools                 8\n",
              "2nd chance               6\n",
              "worker stories           3\n",
              "NaN                      3\n",
              "networking               2\n",
              "blogs                    1\n",
              "Name: count, dtype: int64"
            ],
            "text/html": [
              "<div>\n",
              "<style scoped>\n",
              "    .dataframe tbody tr th:only-of-type {\n",
              "        vertical-align: middle;\n",
              "    }\n",
              "\n",
              "    .dataframe tbody tr th {\n",
              "        vertical-align: top;\n",
              "    }\n",
              "\n",
              "    .dataframe thead th {\n",
              "        text-align: right;\n",
              "    }\n",
              "</style>\n",
              "<table border=\"1\" class=\"dataframe\">\n",
              "  <thead>\n",
              "    <tr style=\"text-align: right;\">\n",
              "      <th></th>\n",
              "      <th>count</th>\n",
              "    </tr>\n",
              "    <tr>\n",
              "      <th>resource_tag</th>\n",
              "      <th></th>\n",
              "    </tr>\n",
              "  </thead>\n",
              "  <tbody>\n",
              "    <tr>\n",
              "      <th>life resources</th>\n",
              "      <td>104</td>\n",
              "    </tr>\n",
              "    <tr>\n",
              "      <th>career support</th>\n",
              "      <td>61</td>\n",
              "    </tr>\n",
              "    <tr>\n",
              "      <th>housing</th>\n",
              "      <td>56</td>\n",
              "    </tr>\n",
              "    <tr>\n",
              "      <th>education</th>\n",
              "      <td>51</td>\n",
              "    </tr>\n",
              "    <tr>\n",
              "      <th>food</th>\n",
              "      <td>49</td>\n",
              "    </tr>\n",
              "    <tr>\n",
              "      <th>job search</th>\n",
              "      <td>46</td>\n",
              "    </tr>\n",
              "    <tr>\n",
              "      <th>medical</th>\n",
              "      <td>45</td>\n",
              "    </tr>\n",
              "    <tr>\n",
              "      <th>financial</th>\n",
              "      <td>44</td>\n",
              "    </tr>\n",
              "    <tr>\n",
              "      <th>employment services</th>\n",
              "      <td>37</td>\n",
              "    </tr>\n",
              "    <tr>\n",
              "      <th>young adults</th>\n",
              "      <td>28</td>\n",
              "    </tr>\n",
              "    <tr>\n",
              "      <th>seniors</th>\n",
              "      <td>26</td>\n",
              "    </tr>\n",
              "    <tr>\n",
              "      <th>coaching</th>\n",
              "      <td>23</td>\n",
              "    </tr>\n",
              "    <tr>\n",
              "      <th>legal</th>\n",
              "      <td>23</td>\n",
              "    </tr>\n",
              "    <tr>\n",
              "      <th>veterans</th>\n",
              "      <td>23</td>\n",
              "    </tr>\n",
              "    <tr>\n",
              "      <th>childcare</th>\n",
              "      <td>19</td>\n",
              "    </tr>\n",
              "    <tr>\n",
              "      <th>transportation</th>\n",
              "      <td>17</td>\n",
              "    </tr>\n",
              "    <tr>\n",
              "      <th>disabled</th>\n",
              "      <td>15</td>\n",
              "    </tr>\n",
              "    <tr>\n",
              "      <th>clothing</th>\n",
              "      <td>14</td>\n",
              "    </tr>\n",
              "    <tr>\n",
              "      <th>LGBTQIA+</th>\n",
              "      <td>12</td>\n",
              "    </tr>\n",
              "    <tr>\n",
              "      <th>internet</th>\n",
              "      <td>11</td>\n",
              "    </tr>\n",
              "    <tr>\n",
              "      <th>supplies</th>\n",
              "      <td>10</td>\n",
              "    </tr>\n",
              "    <tr>\n",
              "      <th>ai tools</th>\n",
              "      <td>8</td>\n",
              "    </tr>\n",
              "    <tr>\n",
              "      <th>2nd chance</th>\n",
              "      <td>6</td>\n",
              "    </tr>\n",
              "    <tr>\n",
              "      <th>worker stories</th>\n",
              "      <td>3</td>\n",
              "    </tr>\n",
              "    <tr>\n",
              "      <th>NaN</th>\n",
              "      <td>3</td>\n",
              "    </tr>\n",
              "    <tr>\n",
              "      <th>networking</th>\n",
              "      <td>2</td>\n",
              "    </tr>\n",
              "    <tr>\n",
              "      <th>blogs</th>\n",
              "      <td>1</td>\n",
              "    </tr>\n",
              "  </tbody>\n",
              "</table>\n",
              "</div><br><label><b>dtype:</b> int64</label>"
            ]
          },
          "metadata": {},
          "execution_count": 8
        }
      ]
    },
    {
      "cell_type": "code",
      "source": [
        "resources['resource_tag'] = resources['resource_tag'].fillna('worker stories')\n",
        "print(resources['resource_tag'].isnull().sum())"
      ],
      "metadata": {
        "colab": {
          "base_uri": "https://localhost:8080/"
        },
        "id": "UBzkRZkF-0qd",
        "executionInfo": {
          "status": "ok",
          "timestamp": 1738992463072,
          "user_tz": 360,
          "elapsed": 13,
          "user": {
            "displayName": "",
            "userId": ""
          }
        },
        "outputId": "706c3c62-0926-4d65-c4d5-b3b6770dcd94"
      },
      "id": "UBzkRZkF-0qd",
      "execution_count": 9,
      "outputs": [
        {
          "output_type": "stream",
          "name": "stdout",
          "text": [
            "0\n"
          ]
        }
      ]
    },
    {
      "cell_type": "code",
      "source": [
        "resources.drop(columns=['featured', 'providerName', 'updatedAt'], axis=1, inplace=True)\n",
        "\n",
        "print(resources.head())"
      ],
      "metadata": {
        "colab": {
          "base_uri": "https://localhost:8080/"
        },
        "id": "4DjSTQq0_h2_",
        "executionInfo": {
          "status": "ok",
          "timestamp": 1738992463073,
          "user_tz": 360,
          "elapsed": 12,
          "user": {
            "displayName": "",
            "userId": ""
          }
        },
        "outputId": "5bcc9e6f-901e-4313-bce9-936a4db7e943"
      },
      "id": "4DjSTQq0_h2_",
      "execution_count": 10,
      "outputs": [
        {
          "output_type": "stream",
          "name": "stdout",
          "text": [
            "              data_careerId    resource_tag\n",
            "0  63e53d0f3f747a7a197b9808        supplies\n",
            "1  63e53d0f3f747a7a197b9808  life resources\n",
            "2  63e53d123f747a7a197b980e  life resources\n",
            "3  63e53d123f747a7a197b980e           legal\n",
            "4  63e53d123f747a7a197b980e         housing\n"
          ]
        }
      ]
    },
    {
      "cell_type": "code",
      "source": [
        "# !pip install google-cloud-bigquery"
      ],
      "metadata": {
        "id": "_x7UcnWy8Pk8",
        "executionInfo": {
          "status": "ok",
          "timestamp": 1738992463073,
          "user_tz": 360,
          "elapsed": 11,
          "user": {
            "displayName": "",
            "userId": ""
          }
        }
      },
      "id": "_x7UcnWy8Pk8",
      "execution_count": 11,
      "outputs": []
    },
    {
      "cell_type": "code",
      "source": [
        "project_id = \"wpac-449904\"\n",
        "client = bigquery.Client(project=project_id)"
      ],
      "metadata": {
        "id": "dU78ln158Us7",
        "executionInfo": {
          "status": "ok",
          "timestamp": 1738992540952,
          "user_tz": 360,
          "elapsed": 175,
          "user": {
            "displayName": "",
            "userId": ""
          }
        }
      },
      "id": "dU78ln158Us7",
      "execution_count": 16,
      "outputs": []
    },
    {
      "cell_type": "code",
      "execution_count": 13,
      "id": "03be623c-94de-4884-bb13-c6a6482ee956",
      "metadata": {
        "id": "03be623c-94de-4884-bb13-c6a6482ee956",
        "executionInfo": {
          "status": "ok",
          "timestamp": 1738992470416,
          "user_tz": 360,
          "elapsed": 2,
          "user": {
            "displayName": "",
            "userId": ""
          }
        }
      },
      "outputs": [],
      "source": [
        "resources.to_csv('cleaned_resources.csv', index=False)\n",
        "\n",
        "from google.colab import files\n",
        "# files.download('cleaned_resources.csv')"
      ]
    },
    {
      "cell_type": "code",
      "source": [
        "dataset_id = \"wpac_data\"\n",
        "\n",
        "client = bigquery.Client(project=project_id)\n",
        "datasets = [dataset.dataset_id for dataset in client.list_datasets()]\n",
        "print(\"Available Datasets:\", datasets)\n",
        "\n",
        "if dataset_id not in datasets:\n",
        "    print(f\"Dataset {dataset_id} does not exist. Creating it now...\")\n",
        "    dataset_ref = client.dataset(dataset_id)\n",
        "    dataset = bigquery.Dataset(dataset_ref)\n",
        "    dataset.location = \"US\"  # Change if necessary\n",
        "    client.create_dataset(dataset, exists_ok=True)\n",
        "    print(f\"Dataset {dataset_id} created.\")\n"
      ],
      "metadata": {
        "colab": {
          "base_uri": "https://localhost:8080/"
        },
        "id": "cADazzMSB9x1",
        "executionInfo": {
          "status": "ok",
          "timestamp": 1738992544657,
          "user_tz": 360,
          "elapsed": 125,
          "user": {
            "displayName": "",
            "userId": ""
          }
        },
        "outputId": "61f77484-3f77-430c-cf2e-24ce9d582a0f"
      },
      "id": "cADazzMSB9x1",
      "execution_count": 17,
      "outputs": [
        {
          "output_type": "stream",
          "name": "stdout",
          "text": [
            "Available Datasets: ['wpac_data']\n"
          ]
        }
      ]
    },
    {
      "cell_type": "code",
      "source": [
        "import pandas_gbq\n",
        "\n",
        "dataset_table = \"wpac_data.cleaned_resources\"  # Replace with dataset.table name\n",
        "\n",
        "# Load your CSV into a DataFrame\n",
        "csv_file_path = \"cleaned_resources.csv\"  # Replace with your actual file path\n",
        "# df = pd.read_csv(csv_file_path)\n",
        "\n",
        "# Use `pandas_gbq.to_gbq` to upload DataFrame\n",
        "pandas_gbq.to_gbq(\n",
        "    resources,\n",
        "    destination_table=dataset_table,\n",
        "    project_id=project_id,\n",
        "    if_exists=\"replace\"  # \"fail\", \"replace\", \"append\"\n",
        ")\n"
      ],
      "metadata": {
        "colab": {
          "base_uri": "https://localhost:8080/"
        },
        "id": "NGZ41sroiixl",
        "executionInfo": {
          "status": "ok",
          "timestamp": 1738992555349,
          "user_tz": 360,
          "elapsed": 5326,
          "user": {
            "displayName": "",
            "userId": ""
          }
        },
        "outputId": "e79032b2-707c-4a7f-963b-ff988217ae21"
      },
      "id": "NGZ41sroiixl",
      "execution_count": 18,
      "outputs": [
        {
          "output_type": "stream",
          "name": "stderr",
          "text": [
            "100%|██████████| 1/1 [00:00<00:00, 6423.13it/s]\n"
          ]
        }
      ]
    }
  ],
  "metadata": {
    "kernelspec": {
      "display_name": "Python 3 (ipykernel)",
      "language": "python",
      "name": "python3"
    },
    "language_info": {
      "codemirror_mode": {
        "name": "ipython",
        "version": 3
      },
      "file_extension": ".py",
      "mimetype": "text/x-python",
      "name": "python",
      "nbconvert_exporter": "python",
      "pygments_lexer": "ipython3",
      "version": "3.12.2"
    },
    "colab": {
      "provenance": [],
      "name": "WPAC_site_resources_EDA"
    }
  },
  "nbformat": 4,
  "nbformat_minor": 5
}