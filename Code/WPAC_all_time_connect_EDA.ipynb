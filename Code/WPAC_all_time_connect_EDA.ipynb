{
  "cells": [
    {
      "cell_type": "code",
      "source": [
        "# !pip install --upgrade google-cloud-bigquery-storage"
      ],
      "metadata": {
        "id": "_x7UcnWy8Pk8",
        "executionInfo": {
          "status": "ok",
          "timestamp": 1739056579606,
          "user_tz": 360,
          "elapsed": 123,
          "user": {
            "displayName": "",
            "userId": ""
          }
        }
      },
      "id": "_x7UcnWy8Pk8",
      "execution_count": 8,
      "outputs": []
    },
    {
      "cell_type": "code",
      "source": [
        "from google.colab import auth\n",
        "auth.authenticate_user()\n",
        "from google.cloud import storage, bigquery\n",
        "\n",
        "project_id = 'wpac-449904'\n",
        "# Create a storage client\n",
        "client = bigquery.Client(project=project_id)"
      ],
      "metadata": {
        "colab": {
          "base_uri": "https://localhost:8080/"
        },
        "id": "6CVoDoWQhC7J",
        "executionInfo": {
          "status": "ok",
          "timestamp": 1739056579759,
          "user_tz": 360,
          "elapsed": 3,
          "user": {
            "displayName": "",
            "userId": ""
          }
        },
        "outputId": "c281e88f-fd2a-4e96-eff6-61e832be7906"
      },
      "execution_count": 9,
      "outputs": [
        {
          "output_type": "stream",
          "name": "stdout",
          "text": [
            "WARNING: google.colab.auth.authenticate_user() is not supported in Colab Enterprise.\n"
          ]
        }
      ],
      "id": "6CVoDoWQhC7J"
    },
    {
      "cell_type": "code",
      "source": [
        "query = \"\"\"\n",
        "SELECT * FROM `wpac-449904.wpac_data.all_time_connect`\n",
        "\"\"\"\n",
        "df = client.query(query).to_dataframe()\n",
        "\n",
        "# Display first few rows\n",
        "df.head()"
      ],
      "metadata": {
        "colab": {
          "base_uri": "https://localhost:8080/",
          "height": 487
        },
        "id": "6SJM54mVieKm",
        "executionInfo": {
          "status": "ok",
          "timestamp": 1739056583174,
          "user_tz": 360,
          "elapsed": 3417,
          "user": {
            "displayName": "",
            "userId": ""
          }
        },
        "outputId": "4171b906-419d-4c77-b9b7-414e07f85c6a"
      },
      "execution_count": 10,
      "outputs": [
        {
          "output_type": "execute_result",
          "data": {
            "text/plain": [
              "                        _id collectionType      eventName  \\\n",
              "0  6663e9a6daf5f872d641dce5             NA  edited status   \n",
              "1  6648b3e7bbe71cd48bb64f6c             NA  edited status   \n",
              "2  6648dec733dcbb5ec5de8904             NA  edited status   \n",
              "3  6648dec9bbe71cd48bb6cc74             NA  edited status   \n",
              "4  6678b884c8205e4485c657b3             NA  edited status   \n",
              "\n",
              "                  createdAt partnerRegion  \\\n",
              "0 2024-06-08 09:18:30+00:00       Atlanta   \n",
              "1 2024-05-18 17:57:59+00:00       Atlanta   \n",
              "2 2024-05-18 21:00:58+00:00       Atlanta   \n",
              "3 2024-05-18 21:01:00+00:00       Atlanta   \n",
              "4 2024-06-24 04:06:27+00:00       Atlanta   \n",
              "\n",
              "                              sessionId data_careerId data_jobId  \\\n",
              "0  e059e07d-48c1-49e4-af6e-162add85fc9b            NA         NA   \n",
              "1  fce6d678-5e24-4357-aa02-15a87f4e2f97            NA         NA   \n",
              "2  3ba85c3e-d4b1-4483-8412-2879a85a3fa6            NA         NA   \n",
              "3  3ba85c3e-d4b1-4483-8412-2879a85a3fa6            NA         NA   \n",
              "4  fd45e415-3a71-4034-9856-a77045e05329            NA         NA   \n",
              "\n",
              "             data_programId data_resourceId      WPA_id  \n",
              "0  630c6a622c7386c831f3d16c              NA  WPA_105333  \n",
              "1  64c976148776a05127ca769e              NA  WPA_106152  \n",
              "2  64c9772a8776a05127ca867d              NA  WPA_106199  \n",
              "3  64c9772a8776a05127ca867d              NA  WPA_106199  \n",
              "4  628aed8312545d84f96e82c7              NA  WPA_106392  "
            ],
            "text/html": [
              "\n",
              "  <div id=\"df-8a7cc69b-072c-4385-ba54-c3ebf5ad2824\" class=\"colab-df-container\">\n",
              "    <div>\n",
              "<style scoped>\n",
              "    .dataframe tbody tr th:only-of-type {\n",
              "        vertical-align: middle;\n",
              "    }\n",
              "\n",
              "    .dataframe tbody tr th {\n",
              "        vertical-align: top;\n",
              "    }\n",
              "\n",
              "    .dataframe thead th {\n",
              "        text-align: right;\n",
              "    }\n",
              "</style>\n",
              "<table border=\"1\" class=\"dataframe\">\n",
              "  <thead>\n",
              "    <tr style=\"text-align: right;\">\n",
              "      <th></th>\n",
              "      <th>_id</th>\n",
              "      <th>collectionType</th>\n",
              "      <th>eventName</th>\n",
              "      <th>createdAt</th>\n",
              "      <th>partnerRegion</th>\n",
              "      <th>sessionId</th>\n",
              "      <th>data_careerId</th>\n",
              "      <th>data_jobId</th>\n",
              "      <th>data_programId</th>\n",
              "      <th>data_resourceId</th>\n",
              "      <th>WPA_id</th>\n",
              "    </tr>\n",
              "  </thead>\n",
              "  <tbody>\n",
              "    <tr>\n",
              "      <th>0</th>\n",
              "      <td>6663e9a6daf5f872d641dce5</td>\n",
              "      <td>NA</td>\n",
              "      <td>edited status</td>\n",
              "      <td>2024-06-08 09:18:30+00:00</td>\n",
              "      <td>Atlanta</td>\n",
              "      <td>e059e07d-48c1-49e4-af6e-162add85fc9b</td>\n",
              "      <td>NA</td>\n",
              "      <td>NA</td>\n",
              "      <td>630c6a622c7386c831f3d16c</td>\n",
              "      <td>NA</td>\n",
              "      <td>WPA_105333</td>\n",
              "    </tr>\n",
              "    <tr>\n",
              "      <th>1</th>\n",
              "      <td>6648b3e7bbe71cd48bb64f6c</td>\n",
              "      <td>NA</td>\n",
              "      <td>edited status</td>\n",
              "      <td>2024-05-18 17:57:59+00:00</td>\n",
              "      <td>Atlanta</td>\n",
              "      <td>fce6d678-5e24-4357-aa02-15a87f4e2f97</td>\n",
              "      <td>NA</td>\n",
              "      <td>NA</td>\n",
              "      <td>64c976148776a05127ca769e</td>\n",
              "      <td>NA</td>\n",
              "      <td>WPA_106152</td>\n",
              "    </tr>\n",
              "    <tr>\n",
              "      <th>2</th>\n",
              "      <td>6648dec733dcbb5ec5de8904</td>\n",
              "      <td>NA</td>\n",
              "      <td>edited status</td>\n",
              "      <td>2024-05-18 21:00:58+00:00</td>\n",
              "      <td>Atlanta</td>\n",
              "      <td>3ba85c3e-d4b1-4483-8412-2879a85a3fa6</td>\n",
              "      <td>NA</td>\n",
              "      <td>NA</td>\n",
              "      <td>64c9772a8776a05127ca867d</td>\n",
              "      <td>NA</td>\n",
              "      <td>WPA_106199</td>\n",
              "    </tr>\n",
              "    <tr>\n",
              "      <th>3</th>\n",
              "      <td>6648dec9bbe71cd48bb6cc74</td>\n",
              "      <td>NA</td>\n",
              "      <td>edited status</td>\n",
              "      <td>2024-05-18 21:01:00+00:00</td>\n",
              "      <td>Atlanta</td>\n",
              "      <td>3ba85c3e-d4b1-4483-8412-2879a85a3fa6</td>\n",
              "      <td>NA</td>\n",
              "      <td>NA</td>\n",
              "      <td>64c9772a8776a05127ca867d</td>\n",
              "      <td>NA</td>\n",
              "      <td>WPA_106199</td>\n",
              "    </tr>\n",
              "    <tr>\n",
              "      <th>4</th>\n",
              "      <td>6678b884c8205e4485c657b3</td>\n",
              "      <td>NA</td>\n",
              "      <td>edited status</td>\n",
              "      <td>2024-06-24 04:06:27+00:00</td>\n",
              "      <td>Atlanta</td>\n",
              "      <td>fd45e415-3a71-4034-9856-a77045e05329</td>\n",
              "      <td>NA</td>\n",
              "      <td>NA</td>\n",
              "      <td>628aed8312545d84f96e82c7</td>\n",
              "      <td>NA</td>\n",
              "      <td>WPA_106392</td>\n",
              "    </tr>\n",
              "  </tbody>\n",
              "</table>\n",
              "</div>\n",
              "    <div class=\"colab-df-buttons\">\n",
              "\n",
              "  <div class=\"colab-df-container\">\n",
              "    <button class=\"colab-df-convert\" onclick=\"convertToInteractive('df-8a7cc69b-072c-4385-ba54-c3ebf5ad2824')\"\n",
              "            title=\"Convert this dataframe to an interactive table.\"\n",
              "            style=\"display:none;\">\n",
              "\n",
              "  <svg xmlns=\"http://www.w3.org/2000/svg\" height=\"24px\" viewBox=\"0 -960 960 960\">\n",
              "    <path d=\"M120-120v-720h720v720H120Zm60-500h600v-160H180v160Zm220 220h160v-160H400v160Zm0 220h160v-160H400v160ZM180-400h160v-160H180v160Zm440 0h160v-160H620v160ZM180-180h160v-160H180v160Zm440 0h160v-160H620v160Z\"/>\n",
              "  </svg>\n",
              "    </button>\n",
              "\n",
              "  <style>\n",
              "    .colab-df-container {\n",
              "      display:flex;\n",
              "      gap: 12px;\n",
              "    }\n",
              "\n",
              "    .colab-df-convert {\n",
              "      background-color: #E8F0FE;\n",
              "      border: none;\n",
              "      border-radius: 50%;\n",
              "      cursor: pointer;\n",
              "      display: none;\n",
              "      fill: #1967D2;\n",
              "      height: 32px;\n",
              "      padding: 0 0 0 0;\n",
              "      width: 32px;\n",
              "    }\n",
              "\n",
              "    .colab-df-convert:hover {\n",
              "      background-color: #E2EBFA;\n",
              "      box-shadow: 0px 1px 2px rgba(60, 64, 67, 0.3), 0px 1px 3px 1px rgba(60, 64, 67, 0.15);\n",
              "      fill: #174EA6;\n",
              "    }\n",
              "\n",
              "    .colab-df-buttons div {\n",
              "      margin-bottom: 4px;\n",
              "    }\n",
              "\n",
              "    [theme=dark] .colab-df-convert {\n",
              "      background-color: #3B4455;\n",
              "      fill: #D2E3FC;\n",
              "    }\n",
              "\n",
              "    [theme=dark] .colab-df-convert:hover {\n",
              "      background-color: #434B5C;\n",
              "      box-shadow: 0px 1px 3px 1px rgba(0, 0, 0, 0.15);\n",
              "      filter: drop-shadow(0px 1px 2px rgba(0, 0, 0, 0.3));\n",
              "      fill: #FFFFFF;\n",
              "    }\n",
              "  </style>\n",
              "\n",
              "    <script>\n",
              "      const buttonEl =\n",
              "        document.querySelector('#df-8a7cc69b-072c-4385-ba54-c3ebf5ad2824 button.colab-df-convert');\n",
              "      buttonEl.style.display =\n",
              "        google.colab.kernel.accessAllowed ? 'block' : 'none';\n",
              "\n",
              "      async function convertToInteractive(key) {\n",
              "        const element = document.querySelector('#df-8a7cc69b-072c-4385-ba54-c3ebf5ad2824');\n",
              "        const dataTable =\n",
              "          await google.colab.kernel.invokeFunction('convertToInteractive',\n",
              "                                                    [key], {});\n",
              "        if (!dataTable) return;\n",
              "\n",
              "        const docLinkHtml = 'Like what you see? Visit the ' +\n",
              "          '<a target=\"_blank\" href=https://colab.research.google.com/notebooks/data_table.ipynb>data table notebook</a>'\n",
              "          + ' to learn more about interactive tables.';\n",
              "        element.innerHTML = '';\n",
              "        dataTable['output_type'] = 'display_data';\n",
              "        await google.colab.output.renderOutput(dataTable, element);\n",
              "        const docLink = document.createElement('div');\n",
              "        docLink.innerHTML = docLinkHtml;\n",
              "        element.appendChild(docLink);\n",
              "      }\n",
              "    </script>\n",
              "  </div>\n",
              "\n",
              "\n",
              "<div id=\"df-187b7d14-7ec2-45a9-8297-b6ce56480df9\">\n",
              "  <button class=\"colab-df-quickchart\" onclick=\"quickchart('df-187b7d14-7ec2-45a9-8297-b6ce56480df9')\"\n",
              "            title=\"Suggest charts\"\n",
              "            style=\"display:none;\">\n",
              "\n",
              "<svg xmlns=\"http://www.w3.org/2000/svg\" height=\"24px\"viewBox=\"0 0 24 24\"\n",
              "     width=\"24px\">\n",
              "    <g>\n",
              "        <path d=\"M19 3H5c-1.1 0-2 .9-2 2v14c0 1.1.9 2 2 2h14c1.1 0 2-.9 2-2V5c0-1.1-.9-2-2-2zM9 17H7v-7h2v7zm4 0h-2V7h2v10zm4 0h-2v-4h2v4z\"/>\n",
              "    </g>\n",
              "</svg>\n",
              "  </button>\n",
              "\n",
              "<style>\n",
              "  .colab-df-quickchart {\n",
              "      --bg-color: #E8F0FE;\n",
              "      --fill-color: #1967D2;\n",
              "      --hover-bg-color: #E2EBFA;\n",
              "      --hover-fill-color: #174EA6;\n",
              "      --disabled-fill-color: #AAA;\n",
              "      --disabled-bg-color: #DDD;\n",
              "  }\n",
              "\n",
              "  [theme=dark] .colab-df-quickchart {\n",
              "      --bg-color: #3B4455;\n",
              "      --fill-color: #D2E3FC;\n",
              "      --hover-bg-color: #434B5C;\n",
              "      --hover-fill-color: #FFFFFF;\n",
              "      --disabled-bg-color: #3B4455;\n",
              "      --disabled-fill-color: #666;\n",
              "  }\n",
              "\n",
              "  .colab-df-quickchart {\n",
              "    background-color: var(--bg-color);\n",
              "    border: none;\n",
              "    border-radius: 50%;\n",
              "    cursor: pointer;\n",
              "    display: none;\n",
              "    fill: var(--fill-color);\n",
              "    height: 32px;\n",
              "    padding: 0;\n",
              "    width: 32px;\n",
              "  }\n",
              "\n",
              "  .colab-df-quickchart:hover {\n",
              "    background-color: var(--hover-bg-color);\n",
              "    box-shadow: 0 1px 2px rgba(60, 64, 67, 0.3), 0 1px 3px 1px rgba(60, 64, 67, 0.15);\n",
              "    fill: var(--button-hover-fill-color);\n",
              "  }\n",
              "\n",
              "  .colab-df-quickchart-complete:disabled,\n",
              "  .colab-df-quickchart-complete:disabled:hover {\n",
              "    background-color: var(--disabled-bg-color);\n",
              "    fill: var(--disabled-fill-color);\n",
              "    box-shadow: none;\n",
              "  }\n",
              "\n",
              "  .colab-df-spinner {\n",
              "    border: 2px solid var(--fill-color);\n",
              "    border-color: transparent;\n",
              "    border-bottom-color: var(--fill-color);\n",
              "    animation:\n",
              "      spin 1s steps(1) infinite;\n",
              "  }\n",
              "\n",
              "  @keyframes spin {\n",
              "    0% {\n",
              "      border-color: transparent;\n",
              "      border-bottom-color: var(--fill-color);\n",
              "      border-left-color: var(--fill-color);\n",
              "    }\n",
              "    20% {\n",
              "      border-color: transparent;\n",
              "      border-left-color: var(--fill-color);\n",
              "      border-top-color: var(--fill-color);\n",
              "    }\n",
              "    30% {\n",
              "      border-color: transparent;\n",
              "      border-left-color: var(--fill-color);\n",
              "      border-top-color: var(--fill-color);\n",
              "      border-right-color: var(--fill-color);\n",
              "    }\n",
              "    40% {\n",
              "      border-color: transparent;\n",
              "      border-right-color: var(--fill-color);\n",
              "      border-top-color: var(--fill-color);\n",
              "    }\n",
              "    60% {\n",
              "      border-color: transparent;\n",
              "      border-right-color: var(--fill-color);\n",
              "    }\n",
              "    80% {\n",
              "      border-color: transparent;\n",
              "      border-right-color: var(--fill-color);\n",
              "      border-bottom-color: var(--fill-color);\n",
              "    }\n",
              "    90% {\n",
              "      border-color: transparent;\n",
              "      border-bottom-color: var(--fill-color);\n",
              "    }\n",
              "  }\n",
              "</style>\n",
              "\n",
              "  <script>\n",
              "    async function quickchart(key) {\n",
              "      const quickchartButtonEl =\n",
              "        document.querySelector('#' + key + ' button');\n",
              "      quickchartButtonEl.disabled = true;  // To prevent multiple clicks.\n",
              "      quickchartButtonEl.classList.add('colab-df-spinner');\n",
              "      try {\n",
              "        const charts = await google.colab.kernel.invokeFunction(\n",
              "            'suggestCharts', [key], {});\n",
              "      } catch (error) {\n",
              "        console.error('Error during call to suggestCharts:', error);\n",
              "      }\n",
              "      quickchartButtonEl.classList.remove('colab-df-spinner');\n",
              "      quickchartButtonEl.classList.add('colab-df-quickchart-complete');\n",
              "    }\n",
              "    (() => {\n",
              "      let quickchartButtonEl =\n",
              "        document.querySelector('#df-187b7d14-7ec2-45a9-8297-b6ce56480df9 button');\n",
              "      quickchartButtonEl.style.display =\n",
              "        google.colab.kernel.accessAllowed ? 'block' : 'none';\n",
              "    })();\n",
              "  </script>\n",
              "</div>\n",
              "\n",
              "    </div>\n",
              "  </div>\n"
            ]
          },
          "metadata": {},
          "execution_count": 10
        }
      ],
      "id": "6SJM54mVieKm"
    },
    {
      "cell_type": "code",
      "source": [
        "df.isnull().sum()"
      ],
      "metadata": {
        "colab": {
          "base_uri": "https://localhost:8080/",
          "height": 429
        },
        "id": "Xm94E0_HMfDU",
        "executionInfo": {
          "status": "ok",
          "timestamp": 1739056584543,
          "user_tz": 360,
          "elapsed": 185,
          "user": {
            "displayName": "",
            "userId": ""
          }
        },
        "outputId": "992a9f0c-7767-430b-b78d-9183d089db15"
      },
      "id": "Xm94E0_HMfDU",
      "execution_count": 11,
      "outputs": [
        {
          "output_type": "execute_result",
          "data": {
            "text/plain": [
              "_id                0\n",
              "collectionType     0\n",
              "eventName          0\n",
              "createdAt          0\n",
              "partnerRegion      0\n",
              "sessionId          0\n",
              "data_careerId      0\n",
              "data_jobId         0\n",
              "data_programId     0\n",
              "data_resourceId    0\n",
              "WPA_id             0\n",
              "dtype: int64"
            ],
            "text/html": [
              "<div>\n",
              "<style scoped>\n",
              "    .dataframe tbody tr th:only-of-type {\n",
              "        vertical-align: middle;\n",
              "    }\n",
              "\n",
              "    .dataframe tbody tr th {\n",
              "        vertical-align: top;\n",
              "    }\n",
              "\n",
              "    .dataframe thead th {\n",
              "        text-align: right;\n",
              "    }\n",
              "</style>\n",
              "<table border=\"1\" class=\"dataframe\">\n",
              "  <thead>\n",
              "    <tr style=\"text-align: right;\">\n",
              "      <th></th>\n",
              "      <th>0</th>\n",
              "    </tr>\n",
              "  </thead>\n",
              "  <tbody>\n",
              "    <tr>\n",
              "      <th>_id</th>\n",
              "      <td>0</td>\n",
              "    </tr>\n",
              "    <tr>\n",
              "      <th>collectionType</th>\n",
              "      <td>0</td>\n",
              "    </tr>\n",
              "    <tr>\n",
              "      <th>eventName</th>\n",
              "      <td>0</td>\n",
              "    </tr>\n",
              "    <tr>\n",
              "      <th>createdAt</th>\n",
              "      <td>0</td>\n",
              "    </tr>\n",
              "    <tr>\n",
              "      <th>partnerRegion</th>\n",
              "      <td>0</td>\n",
              "    </tr>\n",
              "    <tr>\n",
              "      <th>sessionId</th>\n",
              "      <td>0</td>\n",
              "    </tr>\n",
              "    <tr>\n",
              "      <th>data_careerId</th>\n",
              "      <td>0</td>\n",
              "    </tr>\n",
              "    <tr>\n",
              "      <th>data_jobId</th>\n",
              "      <td>0</td>\n",
              "    </tr>\n",
              "    <tr>\n",
              "      <th>data_programId</th>\n",
              "      <td>0</td>\n",
              "    </tr>\n",
              "    <tr>\n",
              "      <th>data_resourceId</th>\n",
              "      <td>0</td>\n",
              "    </tr>\n",
              "    <tr>\n",
              "      <th>WPA_id</th>\n",
              "      <td>0</td>\n",
              "    </tr>\n",
              "  </tbody>\n",
              "</table>\n",
              "</div><br><label><b>dtype:</b> int64</label>"
            ]
          },
          "metadata": {},
          "execution_count": 11
        }
      ]
    },
    {
      "cell_type": "code",
      "source": [
        "print(df.shape)"
      ],
      "metadata": {
        "colab": {
          "base_uri": "https://localhost:8080/"
        },
        "id": "m18K1cbhzFJt",
        "executionInfo": {
          "status": "ok",
          "timestamp": 1739056584543,
          "user_tz": 360,
          "elapsed": 5,
          "user": {
            "displayName": "",
            "userId": ""
          }
        },
        "outputId": "35426586-5285-4cc4-8867-aa622667c94b"
      },
      "id": "m18K1cbhzFJt",
      "execution_count": 12,
      "outputs": [
        {
          "output_type": "stream",
          "name": "stdout",
          "text": [
            "(895858, 11)\n"
          ]
        }
      ]
    },
    {
      "cell_type": "code",
      "source": [
        "df.info()"
      ],
      "metadata": {
        "colab": {
          "base_uri": "https://localhost:8080/"
        },
        "id": "kqUnXJJX1wcE",
        "executionInfo": {
          "status": "ok",
          "timestamp": 1739056585435,
          "user_tz": 360,
          "elapsed": 566,
          "user": {
            "displayName": "",
            "userId": ""
          }
        },
        "outputId": "4b1ec2f0-058a-4931-a4b1-9956ba168f5b"
      },
      "id": "kqUnXJJX1wcE",
      "execution_count": 13,
      "outputs": [
        {
          "output_type": "stream",
          "name": "stdout",
          "text": [
            "<class 'pandas.core.frame.DataFrame'>\n",
            "RangeIndex: 895858 entries, 0 to 895857\n",
            "Data columns (total 11 columns):\n",
            " #   Column           Non-Null Count   Dtype              \n",
            "---  ------           --------------   -----              \n",
            " 0   _id              895858 non-null  object             \n",
            " 1   collectionType   895858 non-null  object             \n",
            " 2   eventName        895858 non-null  object             \n",
            " 3   createdAt        895858 non-null  datetime64[us, UTC]\n",
            " 4   partnerRegion    895858 non-null  object             \n",
            " 5   sessionId        895858 non-null  object             \n",
            " 6   data_careerId    895858 non-null  object             \n",
            " 7   data_jobId       895858 non-null  object             \n",
            " 8   data_programId   895858 non-null  object             \n",
            " 9   data_resourceId  895858 non-null  object             \n",
            " 10  WPA_id           895858 non-null  object             \n",
            "dtypes: datetime64[us, UTC](1), object(10)\n",
            "memory usage: 75.2+ MB\n"
          ]
        }
      ]
    },
    {
      "cell_type": "code",
      "source": [
        "print(df.nunique())"
      ],
      "metadata": {
        "colab": {
          "base_uri": "https://localhost:8080/"
        },
        "id": "k1riYyeB1-vY",
        "executionInfo": {
          "status": "ok",
          "timestamp": 1739056586354,
          "user_tz": 360,
          "elapsed": 921,
          "user": {
            "displayName": "",
            "userId": ""
          }
        },
        "outputId": "3b83d188-fe55-48de-8b38-84cbe3f5ab1f"
      },
      "id": "k1riYyeB1-vY",
      "execution_count": 14,
      "outputs": [
        {
          "output_type": "stream",
          "name": "stdout",
          "text": [
            "_id                895858\n",
            "collectionType          5\n",
            "eventName               5\n",
            "createdAt          877581\n",
            "partnerRegion          31\n",
            "sessionId          133446\n",
            "data_careerId          64\n",
            "data_jobId          57377\n",
            "data_programId       4564\n",
            "data_resourceId       235\n",
            "WPA_id             132155\n",
            "dtype: int64\n"
          ]
        }
      ]
    },
    {
      "cell_type": "code",
      "source": [
        "dataset_id = \"wpac_data\"\n",
        "\n",
        "client = bigquery.Client(project=project_id)\n",
        "datasets = [dataset.dataset_id for dataset in client.list_datasets()]\n",
        "print(\"Available Datasets:\", datasets)\n",
        "\n",
        "if dataset_id not in datasets:\n",
        "    print(f\"Dataset {dataset_id} does not exist. Creating it now...\")\n",
        "    dataset_ref = client.dataset(dataset_id)\n",
        "    dataset = bigquery.Dataset(dataset_ref)\n",
        "    dataset.location = \"US\"  # Change if necessary\n",
        "    client.create_dataset(dataset, exists_ok=True)\n",
        "    print(f\"Dataset {dataset_id} created.\")\n"
      ],
      "metadata": {
        "colab": {
          "base_uri": "https://localhost:8080/"
        },
        "id": "cADazzMSB9x1",
        "executionInfo": {
          "status": "ok",
          "timestamp": 1739056586354,
          "user_tz": 360,
          "elapsed": 4,
          "user": {
            "displayName": "",
            "userId": ""
          }
        },
        "outputId": "b6275bc1-156d-4f8e-8d28-628ff31cd42b"
      },
      "id": "cADazzMSB9x1",
      "execution_count": 15,
      "outputs": [
        {
          "output_type": "stream",
          "name": "stdout",
          "text": [
            "Available Datasets: ['wpac_data']\n"
          ]
        }
      ]
    },
    {
      "cell_type": "code",
      "source": [
        "import pandas_gbq\n",
        "\n",
        "dataset_table = \"wpac_data.cleaned_all_time_connect\"  # Replace with dataset.table name\n",
        "\n",
        "# Load your CSV into a DataFrame\n",
        "csv_file_path = \"cleaned_all_time_connect.csv\"  # Replace with your actual file path\n",
        "# df = pd.read_csv(csv_file_path)\n",
        "\n",
        "# Use `pandas_gbq.to_gbq` to upload DataFrame\n",
        "pandas_gbq.to_gbq(\n",
        "    df,\n",
        "    destination_table=dataset_table,\n",
        "    project_id=project_id,\n",
        "    if_exists=\"replace\"  # \"fail\", \"replace\", \"append\"\n",
        ")\n"
      ],
      "metadata": {
        "colab": {
          "base_uri": "https://localhost:8080/"
        },
        "id": "NGZ41sroiixl",
        "executionInfo": {
          "status": "ok",
          "timestamp": 1739056595751,
          "user_tz": 360,
          "elapsed": 9399,
          "user": {
            "displayName": "",
            "userId": ""
          }
        },
        "outputId": "b2f5cc82-2c32-460c-c925-c850b10646a3"
      },
      "id": "NGZ41sroiixl",
      "execution_count": 16,
      "outputs": [
        {
          "output_type": "stream",
          "name": "stderr",
          "text": [
            "100%|██████████| 1/1 [00:00<00:00, 7612.17it/s]\n"
          ]
        }
      ]
    }
  ],
  "metadata": {
    "kernelspec": {
      "display_name": "Python 3 (ipykernel)",
      "language": "python",
      "name": "python3"
    },
    "language_info": {
      "codemirror_mode": {
        "name": "ipython",
        "version": 3
      },
      "file_extension": ".py",
      "mimetype": "text/x-python",
      "name": "python",
      "nbconvert_exporter": "python",
      "pygments_lexer": "ipython3",
      "version": "3.12.2"
    },
    "colab": {
      "provenance": [],
      "name": "WPAC_other_events_EDA"
    }
  },
  "nbformat": 4,
  "nbformat_minor": 5
}