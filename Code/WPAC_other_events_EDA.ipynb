{
  "cells": [
    {
      "cell_type": "code",
      "source": [
        "# !pip install --upgrade google-cloud-bigquery-storage"
      ],
      "metadata": {
        "id": "_x7UcnWy8Pk8",
        "executionInfo": {
          "status": "ok",
          "timestamp": 1739056179178,
          "user_tz": 360,
          "elapsed": 494,
          "user": {
            "displayName": "",
            "userId": ""
          }
        }
      },
      "id": "_x7UcnWy8Pk8",
      "execution_count": 20,
      "outputs": []
    },
    {
      "cell_type": "code",
      "source": [
        "from google.colab import auth\n",
        "auth.authenticate_user()\n",
        "from google.cloud import storage, bigquery\n",
        "\n",
        "project_id = 'wpac-449904'\n",
        "# Create a storage client\n",
        "client = bigquery.Client(project=project_id)"
      ],
      "metadata": {
        "colab": {
          "base_uri": "https://localhost:8080/"
        },
        "id": "6CVoDoWQhC7J",
        "executionInfo": {
          "status": "ok",
          "timestamp": 1739056179339,
          "user_tz": 360,
          "elapsed": 3,
          "user": {
            "displayName": "",
            "userId": ""
          }
        },
        "outputId": "6c40e7f4-1da5-401e-8a03-95e78b80d157"
      },
      "execution_count": 21,
      "outputs": [
        {
          "output_type": "stream",
          "name": "stdout",
          "text": [
            "WARNING: google.colab.auth.authenticate_user() is not supported in Colab Enterprise.\n"
          ]
        }
      ],
      "id": "6CVoDoWQhC7J"
    },
    {
      "cell_type": "code",
      "source": [
        "query = \"\"\"\n",
        "SELECT * FROM `wpac-449904.wpac_data.other_events`\n",
        "\"\"\"\n",
        "df = client.query(query).to_dataframe()\n",
        "\n",
        "# Display first few rows\n",
        "df.head()"
      ],
      "metadata": {
        "colab": {
          "base_uri": "https://localhost:8080/",
          "height": 206
        },
        "id": "6SJM54mVieKm",
        "executionInfo": {
          "status": "ok",
          "timestamp": 1739056182635,
          "user_tz": 360,
          "elapsed": 3298,
          "user": {
            "displayName": "",
            "userId": ""
          }
        },
        "outputId": "69a58a2d-b2f2-4fb3-fa1f-88ebe94efb59"
      },
      "execution_count": 22,
      "outputs": [
        {
          "output_type": "execute_result",
          "data": {
            "text/plain": [
              "  string_field_0 string_field_1 string_field_2 string_field_3 string_field_4\n",
              "0             NA       searched         Search        Atlanta       WPA_1708\n",
              "1             NA       searched         Search        Atlanta       WPA_1708\n",
              "2             NA       searched         Search        Atlanta       WPA_1708\n",
              "3             NA       searched         Search        Atlanta       WPA_1708\n",
              "4             NA       searched         Search        Atlanta       WPA_8609"
            ],
            "text/html": [
              "\n",
              "  <div id=\"df-00d3c897-ecd6-4dd2-8a22-6bc4ad5cd5ee\" class=\"colab-df-container\">\n",
              "    <div>\n",
              "<style scoped>\n",
              "    .dataframe tbody tr th:only-of-type {\n",
              "        vertical-align: middle;\n",
              "    }\n",
              "\n",
              "    .dataframe tbody tr th {\n",
              "        vertical-align: top;\n",
              "    }\n",
              "\n",
              "    .dataframe thead th {\n",
              "        text-align: right;\n",
              "    }\n",
              "</style>\n",
              "<table border=\"1\" class=\"dataframe\">\n",
              "  <thead>\n",
              "    <tr style=\"text-align: right;\">\n",
              "      <th></th>\n",
              "      <th>string_field_0</th>\n",
              "      <th>string_field_1</th>\n",
              "      <th>string_field_2</th>\n",
              "      <th>string_field_3</th>\n",
              "      <th>string_field_4</th>\n",
              "    </tr>\n",
              "  </thead>\n",
              "  <tbody>\n",
              "    <tr>\n",
              "      <th>0</th>\n",
              "      <td>NA</td>\n",
              "      <td>searched</td>\n",
              "      <td>Search</td>\n",
              "      <td>Atlanta</td>\n",
              "      <td>WPA_1708</td>\n",
              "    </tr>\n",
              "    <tr>\n",
              "      <th>1</th>\n",
              "      <td>NA</td>\n",
              "      <td>searched</td>\n",
              "      <td>Search</td>\n",
              "      <td>Atlanta</td>\n",
              "      <td>WPA_1708</td>\n",
              "    </tr>\n",
              "    <tr>\n",
              "      <th>2</th>\n",
              "      <td>NA</td>\n",
              "      <td>searched</td>\n",
              "      <td>Search</td>\n",
              "      <td>Atlanta</td>\n",
              "      <td>WPA_1708</td>\n",
              "    </tr>\n",
              "    <tr>\n",
              "      <th>3</th>\n",
              "      <td>NA</td>\n",
              "      <td>searched</td>\n",
              "      <td>Search</td>\n",
              "      <td>Atlanta</td>\n",
              "      <td>WPA_1708</td>\n",
              "    </tr>\n",
              "    <tr>\n",
              "      <th>4</th>\n",
              "      <td>NA</td>\n",
              "      <td>searched</td>\n",
              "      <td>Search</td>\n",
              "      <td>Atlanta</td>\n",
              "      <td>WPA_8609</td>\n",
              "    </tr>\n",
              "  </tbody>\n",
              "</table>\n",
              "</div>\n",
              "    <div class=\"colab-df-buttons\">\n",
              "\n",
              "  <div class=\"colab-df-container\">\n",
              "    <button class=\"colab-df-convert\" onclick=\"convertToInteractive('df-00d3c897-ecd6-4dd2-8a22-6bc4ad5cd5ee')\"\n",
              "            title=\"Convert this dataframe to an interactive table.\"\n",
              "            style=\"display:none;\">\n",
              "\n",
              "  <svg xmlns=\"http://www.w3.org/2000/svg\" height=\"24px\" viewBox=\"0 -960 960 960\">\n",
              "    <path d=\"M120-120v-720h720v720H120Zm60-500h600v-160H180v160Zm220 220h160v-160H400v160Zm0 220h160v-160H400v160ZM180-400h160v-160H180v160Zm440 0h160v-160H620v160ZM180-180h160v-160H180v160Zm440 0h160v-160H620v160Z\"/>\n",
              "  </svg>\n",
              "    </button>\n",
              "\n",
              "  <style>\n",
              "    .colab-df-container {\n",
              "      display:flex;\n",
              "      gap: 12px;\n",
              "    }\n",
              "\n",
              "    .colab-df-convert {\n",
              "      background-color: #E8F0FE;\n",
              "      border: none;\n",
              "      border-radius: 50%;\n",
              "      cursor: pointer;\n",
              "      display: none;\n",
              "      fill: #1967D2;\n",
              "      height: 32px;\n",
              "      padding: 0 0 0 0;\n",
              "      width: 32px;\n",
              "    }\n",
              "\n",
              "    .colab-df-convert:hover {\n",
              "      background-color: #E2EBFA;\n",
              "      box-shadow: 0px 1px 2px rgba(60, 64, 67, 0.3), 0px 1px 3px 1px rgba(60, 64, 67, 0.15);\n",
              "      fill: #174EA6;\n",
              "    }\n",
              "\n",
              "    .colab-df-buttons div {\n",
              "      margin-bottom: 4px;\n",
              "    }\n",
              "\n",
              "    [theme=dark] .colab-df-convert {\n",
              "      background-color: #3B4455;\n",
              "      fill: #D2E3FC;\n",
              "    }\n",
              "\n",
              "    [theme=dark] .colab-df-convert:hover {\n",
              "      background-color: #434B5C;\n",
              "      box-shadow: 0px 1px 3px 1px rgba(0, 0, 0, 0.15);\n",
              "      filter: drop-shadow(0px 1px 2px rgba(0, 0, 0, 0.3));\n",
              "      fill: #FFFFFF;\n",
              "    }\n",
              "  </style>\n",
              "\n",
              "    <script>\n",
              "      const buttonEl =\n",
              "        document.querySelector('#df-00d3c897-ecd6-4dd2-8a22-6bc4ad5cd5ee button.colab-df-convert');\n",
              "      buttonEl.style.display =\n",
              "        google.colab.kernel.accessAllowed ? 'block' : 'none';\n",
              "\n",
              "      async function convertToInteractive(key) {\n",
              "        const element = document.querySelector('#df-00d3c897-ecd6-4dd2-8a22-6bc4ad5cd5ee');\n",
              "        const dataTable =\n",
              "          await google.colab.kernel.invokeFunction('convertToInteractive',\n",
              "                                                    [key], {});\n",
              "        if (!dataTable) return;\n",
              "\n",
              "        const docLinkHtml = 'Like what you see? Visit the ' +\n",
              "          '<a target=\"_blank\" href=https://colab.research.google.com/notebooks/data_table.ipynb>data table notebook</a>'\n",
              "          + ' to learn more about interactive tables.';\n",
              "        element.innerHTML = '';\n",
              "        dataTable['output_type'] = 'display_data';\n",
              "        await google.colab.output.renderOutput(dataTable, element);\n",
              "        const docLink = document.createElement('div');\n",
              "        docLink.innerHTML = docLinkHtml;\n",
              "        element.appendChild(docLink);\n",
              "      }\n",
              "    </script>\n",
              "  </div>\n",
              "\n",
              "\n",
              "<div id=\"df-8bcf3b22-dd8d-4470-b534-43e24af30ddd\">\n",
              "  <button class=\"colab-df-quickchart\" onclick=\"quickchart('df-8bcf3b22-dd8d-4470-b534-43e24af30ddd')\"\n",
              "            title=\"Suggest charts\"\n",
              "            style=\"display:none;\">\n",
              "\n",
              "<svg xmlns=\"http://www.w3.org/2000/svg\" height=\"24px\"viewBox=\"0 0 24 24\"\n",
              "     width=\"24px\">\n",
              "    <g>\n",
              "        <path d=\"M19 3H5c-1.1 0-2 .9-2 2v14c0 1.1.9 2 2 2h14c1.1 0 2-.9 2-2V5c0-1.1-.9-2-2-2zM9 17H7v-7h2v7zm4 0h-2V7h2v10zm4 0h-2v-4h2v4z\"/>\n",
              "    </g>\n",
              "</svg>\n",
              "  </button>\n",
              "\n",
              "<style>\n",
              "  .colab-df-quickchart {\n",
              "      --bg-color: #E8F0FE;\n",
              "      --fill-color: #1967D2;\n",
              "      --hover-bg-color: #E2EBFA;\n",
              "      --hover-fill-color: #174EA6;\n",
              "      --disabled-fill-color: #AAA;\n",
              "      --disabled-bg-color: #DDD;\n",
              "  }\n",
              "\n",
              "  [theme=dark] .colab-df-quickchart {\n",
              "      --bg-color: #3B4455;\n",
              "      --fill-color: #D2E3FC;\n",
              "      --hover-bg-color: #434B5C;\n",
              "      --hover-fill-color: #FFFFFF;\n",
              "      --disabled-bg-color: #3B4455;\n",
              "      --disabled-fill-color: #666;\n",
              "  }\n",
              "\n",
              "  .colab-df-quickchart {\n",
              "    background-color: var(--bg-color);\n",
              "    border: none;\n",
              "    border-radius: 50%;\n",
              "    cursor: pointer;\n",
              "    display: none;\n",
              "    fill: var(--fill-color);\n",
              "    height: 32px;\n",
              "    padding: 0;\n",
              "    width: 32px;\n",
              "  }\n",
              "\n",
              "  .colab-df-quickchart:hover {\n",
              "    background-color: var(--hover-bg-color);\n",
              "    box-shadow: 0 1px 2px rgba(60, 64, 67, 0.3), 0 1px 3px 1px rgba(60, 64, 67, 0.15);\n",
              "    fill: var(--button-hover-fill-color);\n",
              "  }\n",
              "\n",
              "  .colab-df-quickchart-complete:disabled,\n",
              "  .colab-df-quickchart-complete:disabled:hover {\n",
              "    background-color: var(--disabled-bg-color);\n",
              "    fill: var(--disabled-fill-color);\n",
              "    box-shadow: none;\n",
              "  }\n",
              "\n",
              "  .colab-df-spinner {\n",
              "    border: 2px solid var(--fill-color);\n",
              "    border-color: transparent;\n",
              "    border-bottom-color: var(--fill-color);\n",
              "    animation:\n",
              "      spin 1s steps(1) infinite;\n",
              "  }\n",
              "\n",
              "  @keyframes spin {\n",
              "    0% {\n",
              "      border-color: transparent;\n",
              "      border-bottom-color: var(--fill-color);\n",
              "      border-left-color: var(--fill-color);\n",
              "    }\n",
              "    20% {\n",
              "      border-color: transparent;\n",
              "      border-left-color: var(--fill-color);\n",
              "      border-top-color: var(--fill-color);\n",
              "    }\n",
              "    30% {\n",
              "      border-color: transparent;\n",
              "      border-left-color: var(--fill-color);\n",
              "      border-top-color: var(--fill-color);\n",
              "      border-right-color: var(--fill-color);\n",
              "    }\n",
              "    40% {\n",
              "      border-color: transparent;\n",
              "      border-right-color: var(--fill-color);\n",
              "      border-top-color: var(--fill-color);\n",
              "    }\n",
              "    60% {\n",
              "      border-color: transparent;\n",
              "      border-right-color: var(--fill-color);\n",
              "    }\n",
              "    80% {\n",
              "      border-color: transparent;\n",
              "      border-right-color: var(--fill-color);\n",
              "      border-bottom-color: var(--fill-color);\n",
              "    }\n",
              "    90% {\n",
              "      border-color: transparent;\n",
              "      border-bottom-color: var(--fill-color);\n",
              "    }\n",
              "  }\n",
              "</style>\n",
              "\n",
              "  <script>\n",
              "    async function quickchart(key) {\n",
              "      const quickchartButtonEl =\n",
              "        document.querySelector('#' + key + ' button');\n",
              "      quickchartButtonEl.disabled = true;  // To prevent multiple clicks.\n",
              "      quickchartButtonEl.classList.add('colab-df-spinner');\n",
              "      try {\n",
              "        const charts = await google.colab.kernel.invokeFunction(\n",
              "            'suggestCharts', [key], {});\n",
              "      } catch (error) {\n",
              "        console.error('Error during call to suggestCharts:', error);\n",
              "      }\n",
              "      quickchartButtonEl.classList.remove('colab-df-spinner');\n",
              "      quickchartButtonEl.classList.add('colab-df-quickchart-complete');\n",
              "    }\n",
              "    (() => {\n",
              "      let quickchartButtonEl =\n",
              "        document.querySelector('#df-8bcf3b22-dd8d-4470-b534-43e24af30ddd button');\n",
              "      quickchartButtonEl.style.display =\n",
              "        google.colab.kernel.accessAllowed ? 'block' : 'none';\n",
              "    })();\n",
              "  </script>\n",
              "</div>\n",
              "\n",
              "    </div>\n",
              "  </div>\n"
            ]
          },
          "metadata": {},
          "execution_count": 22
        }
      ],
      "id": "6SJM54mVieKm"
    },
    {
      "cell_type": "code",
      "source": [
        "df.isnull().sum()"
      ],
      "metadata": {
        "colab": {
          "base_uri": "https://localhost:8080/",
          "height": 241
        },
        "id": "Xm94E0_HMfDU",
        "executionInfo": {
          "status": "ok",
          "timestamp": 1739056182635,
          "user_tz": 360,
          "elapsed": 10,
          "user": {
            "displayName": "",
            "userId": ""
          }
        },
        "outputId": "462a3e4b-7c6b-4891-ff26-199bc74f34f7"
      },
      "id": "Xm94E0_HMfDU",
      "execution_count": 23,
      "outputs": [
        {
          "output_type": "execute_result",
          "data": {
            "text/plain": [
              "string_field_0    0\n",
              "string_field_1    0\n",
              "string_field_2    0\n",
              "string_field_3    0\n",
              "string_field_4    0\n",
              "dtype: int64"
            ],
            "text/html": [
              "<div>\n",
              "<style scoped>\n",
              "    .dataframe tbody tr th:only-of-type {\n",
              "        vertical-align: middle;\n",
              "    }\n",
              "\n",
              "    .dataframe tbody tr th {\n",
              "        vertical-align: top;\n",
              "    }\n",
              "\n",
              "    .dataframe thead th {\n",
              "        text-align: right;\n",
              "    }\n",
              "</style>\n",
              "<table border=\"1\" class=\"dataframe\">\n",
              "  <thead>\n",
              "    <tr style=\"text-align: right;\">\n",
              "      <th></th>\n",
              "      <th>0</th>\n",
              "    </tr>\n",
              "  </thead>\n",
              "  <tbody>\n",
              "    <tr>\n",
              "      <th>string_field_0</th>\n",
              "      <td>0</td>\n",
              "    </tr>\n",
              "    <tr>\n",
              "      <th>string_field_1</th>\n",
              "      <td>0</td>\n",
              "    </tr>\n",
              "    <tr>\n",
              "      <th>string_field_2</th>\n",
              "      <td>0</td>\n",
              "    </tr>\n",
              "    <tr>\n",
              "      <th>string_field_3</th>\n",
              "      <td>0</td>\n",
              "    </tr>\n",
              "    <tr>\n",
              "      <th>string_field_4</th>\n",
              "      <td>0</td>\n",
              "    </tr>\n",
              "  </tbody>\n",
              "</table>\n",
              "</div><br><label><b>dtype:</b> int64</label>"
            ]
          },
          "metadata": {},
          "execution_count": 23
        }
      ]
    },
    {
      "cell_type": "code",
      "source": [
        "headers = ['collectionType', 'eventName', 'eventType', 'partnerRegion', 'WPA_id']\n",
        "\n",
        "df.columns = headers\n",
        "print(df.shape)"
      ],
      "metadata": {
        "colab": {
          "base_uri": "https://localhost:8080/"
        },
        "id": "m18K1cbhzFJt",
        "executionInfo": {
          "status": "ok",
          "timestamp": 1739056182635,
          "user_tz": 360,
          "elapsed": 8,
          "user": {
            "displayName": "",
            "userId": ""
          }
        },
        "outputId": "9ff49b78-07e7-4ac9-c9be-534ab274b285"
      },
      "id": "m18K1cbhzFJt",
      "execution_count": 24,
      "outputs": [
        {
          "output_type": "stream",
          "name": "stdout",
          "text": [
            "(576777, 5)\n"
          ]
        }
      ]
    },
    {
      "cell_type": "code",
      "source": [
        "for col in df.columns:\n",
        "  df = df[df[col] != col]\n",
        "  print(df[col].value_counts().sort_values())\n",
        "  print('-'*100)"
      ],
      "metadata": {
        "colab": {
          "base_uri": "https://localhost:8080/"
        },
        "id": "Mx80Z0ItPQFd",
        "executionInfo": {
          "status": "ok",
          "timestamp": 1739056182636,
          "user_tz": 360,
          "elapsed": 8,
          "user": {
            "displayName": "",
            "userId": ""
          }
        },
        "outputId": "7865c108-3f00-487b-d306-1bc4bb9acd3e"
      },
      "id": "Mx80Z0ItPQFd",
      "execution_count": 25,
      "outputs": [
        {
          "output_type": "stream",
          "name": "stdout",
          "text": [
            "collectionType\n",
            "resources      8038\n",
            "careers       23221\n",
            "NA            29277\n",
            "my path      143862\n",
            "training     160293\n",
            "jobs         212085\n",
            "Name: count, dtype: int64\n",
            "----------------------------------------------------------------------------------------------------\n",
            "eventName\n",
            "completed a milestone        4625\n",
            "completed a career goal     13721\n",
            "sorted results              14470\n",
            "searched                   118136\n",
            "completed a task           127513\n",
            "selected filters           298311\n",
            "Name: count, dtype: int64\n",
            "----------------------------------------------------------------------------------------------------\n",
            "eventType\n",
            "My Path    145859\n",
            "Search     430917\n",
            "Name: count, dtype: int64\n",
            "----------------------------------------------------------------------------------------------------\n",
            "partnerRegion\n",
            "Remote                  26\n",
            "NA                      91\n",
            "Portland               113\n",
            "Baltimore              376\n",
            "San Antonio            783\n",
            "San Diego             1258\n",
            "West Michigan         1297\n",
            "Minneapolis           2065\n",
            "Washington, D.C.      2444\n",
            "Inland Empire         2563\n",
            "Boston                3130\n",
            "Seattle               3933\n",
            "Northern Nevada       5731\n",
            "Eastern Kentucky      5984\n",
            "Florida               6002\n",
            "Denver                6833\n",
            "Miami                 6895\n",
            "Phoenix               7895\n",
            "Louisiana             8884\n",
            "Detroit               9392\n",
            "Ohio                 12520\n",
            "Charlotte            14867\n",
            "Chicago              14893\n",
            "Houston              16776\n",
            "Bay Area             18335\n",
            "Philadelphia         19156\n",
            "Central Florida      20253\n",
            "Los Angeles          21651\n",
            "Dallas               23958\n",
            "Atlanta              24079\n",
            "New York City        30891\n",
            "National            283702\n",
            "Name: count, dtype: int64\n",
            "----------------------------------------------------------------------------------------------------\n",
            "WPA_id\n",
            "WPA_185346      1\n",
            "WPA_25907       1\n",
            "WPA_26095       1\n",
            "WPA_33979       1\n",
            "WPA_176442      1\n",
            "             ... \n",
            "WPA_208       288\n",
            "WPA_143212    319\n",
            "WPA_143272    334\n",
            "WPA_29378     352\n",
            "WPA_21944     529\n",
            "Name: count, Length: 99199, dtype: int64\n",
            "----------------------------------------------------------------------------------------------------\n"
          ]
        }
      ]
    },
    {
      "cell_type": "code",
      "source": [
        "print(df.shape)"
      ],
      "metadata": {
        "colab": {
          "base_uri": "https://localhost:8080/"
        },
        "id": "0603Ff6S0jNh",
        "executionInfo": {
          "status": "ok",
          "timestamp": 1739056183204,
          "user_tz": 360,
          "elapsed": 574,
          "user": {
            "displayName": "",
            "userId": ""
          }
        },
        "outputId": "2f610d2e-8a56-4fc3-9d47-517d986f4cb8"
      },
      "id": "0603Ff6S0jNh",
      "execution_count": 26,
      "outputs": [
        {
          "output_type": "stream",
          "name": "stdout",
          "text": [
            "(576776, 5)\n"
          ]
        }
      ]
    },
    {
      "cell_type": "code",
      "source": [
        "dataset_id = \"wpac_data\"\n",
        "\n",
        "client = bigquery.Client(project=project_id)\n",
        "datasets = [dataset.dataset_id for dataset in client.list_datasets()]\n",
        "print(\"Available Datasets:\", datasets)\n",
        "\n",
        "if dataset_id not in datasets:\n",
        "    print(f\"Dataset {dataset_id} does not exist. Creating it now...\")\n",
        "    dataset_ref = client.dataset(dataset_id)\n",
        "    dataset = bigquery.Dataset(dataset_ref)\n",
        "    dataset.location = \"US\"  # Change if necessary\n",
        "    client.create_dataset(dataset, exists_ok=True)\n",
        "    print(f\"Dataset {dataset_id} created.\")\n"
      ],
      "metadata": {
        "colab": {
          "base_uri": "https://localhost:8080/"
        },
        "id": "cADazzMSB9x1",
        "executionInfo": {
          "status": "ok",
          "timestamp": 1739056183204,
          "user_tz": 360,
          "elapsed": 4,
          "user": {
            "displayName": "",
            "userId": ""
          }
        },
        "outputId": "7269b740-5de0-41ca-e00e-ab8b8a008fd3"
      },
      "id": "cADazzMSB9x1",
      "execution_count": 27,
      "outputs": [
        {
          "output_type": "stream",
          "name": "stdout",
          "text": [
            "Available Datasets: ['wpac_data']\n"
          ]
        }
      ]
    },
    {
      "cell_type": "code",
      "source": [
        "import pandas_gbq\n",
        "\n",
        "dataset_table = \"wpac_data.cleaned_other_events\"  # Replace with dataset.table name\n",
        "\n",
        "# Load your CSV into a DataFrame\n",
        "csv_file_path = \"cleaned_other_events.csv\"  # Replace with your actual file path\n",
        "# df = pd.read_csv(csv_file_path)\n",
        "\n",
        "# Use `pandas_gbq.to_gbq` to upload DataFrame\n",
        "pandas_gbq.to_gbq(\n",
        "    df,\n",
        "    destination_table=dataset_table,\n",
        "    project_id=project_id,\n",
        "    if_exists=\"replace\"  # \"fail\", \"replace\", \"append\"\n",
        ")\n"
      ],
      "metadata": {
        "colab": {
          "base_uri": "https://localhost:8080/"
        },
        "id": "NGZ41sroiixl",
        "executionInfo": {
          "status": "ok",
          "timestamp": 1739056189080,
          "user_tz": 360,
          "elapsed": 5878,
          "user": {
            "displayName": "",
            "userId": ""
          }
        },
        "outputId": "1c26c110-c1cc-4b84-b174-b37287e610df"
      },
      "id": "NGZ41sroiixl",
      "execution_count": 28,
      "outputs": [
        {
          "output_type": "stream",
          "name": "stderr",
          "text": [
            "100%|██████████| 1/1 [00:00<00:00, 6213.78it/s]\n"
          ]
        }
      ]
    }
  ],
  "metadata": {
    "kernelspec": {
      "display_name": "Python 3 (ipykernel)",
      "language": "python",
      "name": "python3"
    },
    "language_info": {
      "codemirror_mode": {
        "name": "ipython",
        "version": 3
      },
      "file_extension": ".py",
      "mimetype": "text/x-python",
      "name": "python",
      "nbconvert_exporter": "python",
      "pygments_lexer": "ipython3",
      "version": "3.12.2"
    },
    "colab": {
      "provenance": [],
      "name": "WPAC_programs_EDA"
    }
  },
  "nbformat": 4,
  "nbformat_minor": 5
}